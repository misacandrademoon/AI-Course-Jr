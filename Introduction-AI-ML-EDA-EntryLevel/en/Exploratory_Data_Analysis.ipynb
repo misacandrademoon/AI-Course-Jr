{
  "cells": [
    {
      "cell_type": "markdown",
      "id": "5880eb49-c374-4358-b1a5-bac145eecc5b",
      "metadata": {
        "id": "5880eb49-c374-4358-b1a5-bac145eecc5b"
      },
      "source": [
        "#Exploratory Data Analysis\n",
        "##Optimal Data Exploration with Pandas\n",
        "\n",
        "<br>\n",
        "\n",
        "### By: Misac Andrade Luna\n",
        "\n",
        "<br>\n",
        "In this unit, we will focus on using the Pandas library—one of the most powerful and widely used libraries in Python for data manipulation and analysis. Designed specifically to work with structured data, Pandas offers a wide range of tools that simplify key tasks in Data Science and Artificial Intelligence, including data cleaning, transformation, aggregation, and large-scale analysis in an efficient and fast way.\n",
        "\n",
        "The contents of this unit are organized as follows:\n",
        "\n",
        "1. Pipelines: Data structure depending on data types\n",
        "\n",
        "2. Pandas Series and DataFrames\n",
        "\n",
        "3. Merging and joining DataFrames\n",
        "\n",
        "4. Exploring data characteristics using descriptive statistics and data sampling\n",
        "\n",
        "It’s important to understand some key concepts covered in this chapter:\n",
        "\n",
        "Pipeline: A data processing flow that organizes and links stages of data cleaning and transformation using Pandas.\n",
        "\n",
        "Series: A one-dimensional data structure in Pandas, similar to a column, that allows for efficient manipulation and analysis of individual data points.\n",
        "\n",
        "DataFrame: A two-dimensional data structure similar to a table, designed to work with data organized in rows and columns.\n",
        "\n",
        "Merging and joining: Methods to combine DataFrames and unify data from multiple sources.\n",
        "\n",
        "Descriptive statistics: Measures used to explore and summarize key data characteristics (mean, median, standard deviation).\n",
        "\n",
        "Pandas also offers detailed official documentation for specific tasks, which you can find at:\n",
        "👉 https://pandas.pydata.org/docs/user_guide/index.html#user-guide\n",
        "\n",
        "To install Pandas, you can use the following command in the terminal:\n",
        "\n",
        "\n",
        "``` python\n",
        "pip install pandas\n",
        "Or install it programmatically within your code:\n",
        "\n",
        "\n",
        "import sys\n",
        "import subprocess\n",
        "\n",
        "subprocess.check_call([sys.executable, \"-m\", \"pip\", \"install\", \"pandas\"]) if \"pandas\" not in sys.modules else None\n",
        "```\n",
        "Let’s get started!"
      ]
    },
    {
      "cell_type": "markdown",
      "id": "c484f32a-32b2-4c13-9a52-6cb76dc590da",
      "metadata": {
        "id": "c484f32a-32b2-4c13-9a52-6cb76dc590da"
      },
      "source": [
        "## 2.1 Pipeline use Pandas\n",
        "\n",
        "Example Pipeline use Structure Data"
      ]
    },
    {
      "cell_type": "code",
      "execution_count": null,
      "id": "176aa13f-f95d-462a-af4c-ea31170c0f7e",
      "metadata": {
        "id": "176aa13f-f95d-462a-af4c-ea31170c0f7e"
      },
      "outputs": [],
      "source": [
        "import pandas as pd\n",
        "\n",
        "# Create a sample DataFrame\n",
        "data = {\n",
        "    'Name': ['Ana', 'Juan', 'Luis', 'Maria', 'Carlos'],\n",
        "    'Age': [25, None, 30, 45, None],\n",
        "    'Salary': [50000, 60000, None, 80000, 50000]\n",
        "}\n",
        "df = pd.DataFrame(data)\n",
        "\n",
        "# Apply a data transformation pipeline\n",
        "df = (\n",
        "    df\n",
        "    .dropna(subset=['Age'])                          # Remove rows with null values in the 'Age' column (Data Cleaning)\n",
        "    .fillna({'Salary': df['Salary'].mean()})         # Fill null values in 'Salary' with the column's mean (Data Imputation)\n",
        "    .assign(Age=df['Age'] + 1)                        # Increase age by 1 year (Data Transformation - Update - Maintenance)\n",
        "    .rename(columns={'Name': 'Employee'})            # Rename 'Name' column to 'Employee' (Feature Manipulation)\n",
        ")\n",
        "\n",
        "print(df)\n"
      ]
    },
    {
      "cell_type": "markdown",
      "id": "3aeee2b0-2935-4f05-afd4-ed59c1cf7c94",
      "metadata": {
        "id": "3aeee2b0-2935-4f05-afd4-ed59c1cf7c94"
      },
      "source": [
        "Example one Pipeline unstructured data"
      ]
    },
    {
      "cell_type": "code",
      "execution_count": null,
      "id": "1494faf2-3982-4690-8f8e-78ec3163c9a6",
      "metadata": {
        "id": "1494faf2-3982-4690-8f8e-78ec3163c9a6"
      },
      "outputs": [],
      "source": [
        "import pandas as pd\n",
        "\n",
        "# Create a sample DataFrame with unstructured data\n",
        "data = {\n",
        "    'Employee': ['Ana', 'Juan', 'Luis', 'Maria', 'Carlos'],\n",
        "    'Comments': [\n",
        "        \"Employee of the month in January. Excellent performance.\",\n",
        "        \"Promoted to manager in 2023, great potential.\",\n",
        "        \"Average performance, needs to improve punctuality.\",\n",
        "        \"Outstanding employee. Recognized in February.\",\n",
        "        \"No additional comments.\"\n",
        "    ]\n",
        "}\n",
        "df = pd.DataFrame(data)\n",
        "\n",
        "# Data processing pipeline to transform unstructured text\n",
        "df = (\n",
        "    df.assign(\n",
        "        # Convert text to lowercase\n",
        "        Comments=lambda x: x['Comments'].str.lower(),\n",
        "\n",
        "        # Extract keywords like \"employee of the month\" or \"promoted\"\n",
        "        Is_Employee_of_Month=lambda x: x['Comments'].str.contains(\"employee of the month\"),\n",
        "        Is_Promoted=lambda x: x['Comments'].str.contains(\"promoted\"),\n",
        "\n",
        "        # Classify performance based on keywords\n",
        "        Performance=lambda x: x['Comments'].apply(\n",
        "            lambda comment: \"Excellent\" if \"excellent\" in comment else\n",
        "                            \"Good\" if \"outstanding\" in comment else\n",
        "                            \"Average\" if \"average\" in comment else\n",
        "                            \"No information\"\n",
        "        )\n",
        "    )\n",
        "\n",
        "    # Drop original comments column if not needed\n",
        "    .drop(columns=['Comments'])\n",
        ")\n",
        "\n",
        "print(df)\n"
      ]
    },
    {
      "cell_type": "markdown",
      "id": "6f0e382d-f588-4e1c-8885-c1a250224d0c",
      "metadata": {
        "id": "6f0e382d-f588-4e1c-8885-c1a250224d0c"
      },
      "source": [
        "## 2.2 Serie Pandas y DataFrames\n",
        "\n",
        "### Series Pandas"
      ]
    },
    {
      "cell_type": "code",
      "execution_count": null,
      "id": "43c2f4bb-cff5-4cf4-9a13-0f8ccea6934a",
      "metadata": {
        "id": "43c2f4bb-cff5-4cf4-9a13-0f8ccea6934a"
      },
      "outputs": [],
      "source": [
        "#In a Data Science / AI environment, it’s also necessary to import NumPy:\n",
        "import numpy as np\n",
        "import pandas as pd\n"
      ]
    },
    {
      "cell_type": "code",
      "execution_count": null,
      "id": "1c874a22-371a-4dd2-b89f-e1e9b1c4f9c2",
      "metadata": {
        "id": "1c874a22-371a-4dd2-b89f-e1e9b1c4f9c2"
      },
      "outputs": [],
      "source": [
        "# Pandas can work with Python lists and convert them to Series\n",
        "print(pd.Series(['Male', 'Female', 'Male', 'Male', 'Female', 'Female', 'Female']))"
      ]
    },
    {
      "cell_type": "code",
      "execution_count": null,
      "id": "fe81a189-ee0f-4f2c-9825-510ccb2cd9fc",
      "metadata": {
        "id": "fe81a189-ee0f-4f2c-9825-510ccb2cd9fc"
      },
      "outputs": [],
      "source": [
        "# Pandas also supports converting NumPy arrays to Series\n",
        "print(pd.Series(np.array(['Male', 'Female', 'Male', 'Male', 'Female', 'Female', 'Female'])))"
      ]
    },
    {
      "cell_type": "code",
      "execution_count": null,
      "id": "f5b30591-6845-4295-aad0-1dfbc538a224",
      "metadata": {
        "id": "f5b30591-6845-4295-aad0-1dfbc538a224"
      },
      "outputs": [],
      "source": [
        "ser = pd.Series(np.array(['Male', 'Female', 'Male', 'Male', 'Female', 'Female', 'Female']))\n",
        "print(type(ser))  # Output: <class 'pandas.core.series.Series'>\n"
      ]
    },
    {
      "cell_type": "code",
      "execution_count": null,
      "id": "ecb00e5b-cc15-4dbb-a979-d1f4235e0a32",
      "metadata": {
        "id": "ecb00e5b-cc15-4dbb-a979-d1f4235e0a32"
      },
      "outputs": [],
      "source": [
        "#Creating Series from Dictionary\n",
        "dict_data = {'a': 1, 'b': 2, 'c': 3}\n",
        "ser1 = pd.Series(dict_data)\n",
        "\n",
        "print(ser1)\n",
        "print(type(ser1))"
      ]
    },
    {
      "cell_type": "code",
      "execution_count": null,
      "id": "0ac64f49-420c-4d04-a2c7-6ad56be6c1b8",
      "metadata": {
        "id": "0ac64f49-420c-4d04-a2c7-6ad56be6c1b8"
      },
      "outputs": [],
      "source": [
        "# If you have series ,  might be have two characteristics int his case :  index and values\n",
        "\n",
        "print(ser1.index)   # Index labels: Index(['a', 'b', 'c'], dtype='object')\n",
        "print(ser1.values)  # Series values: array([1, 2, 3])\n"
      ]
    },
    {
      "cell_type": "code",
      "execution_count": null,
      "id": "e473bc51-db1d-4f66-946f-f21dbf56dfbe",
      "metadata": {
        "id": "e473bc51-db1d-4f66-946f-f21dbf56dfbe"
      },
      "outputs": [],
      "source": [
        "# Pandas supports working with non-homogeneous data (use with caution in real-world applications)\n",
        "\n",
        "list_data = ['2019-01-02', 3.14, 'ABC', 100, True]\n",
        "ser2 = pd.Series(list_data)\n",
        "\n",
        "print(ser2)\n",
        "print(ser2.index)  # If no index is specified, Pandas uses a default RangeIndex\n"
      ]
    },
    {
      "cell_type": "code",
      "execution_count": null,
      "id": "79e94083-dd4f-4c86-b22d-a234579b3664",
      "metadata": {
        "id": "79e94083-dd4f-4c86-b22d-a234579b3664"
      },
      "outputs": [],
      "source": [
        "# Creating  a Series  from values with custom index labels\n",
        "\n",
        "values = [220, 215, 93, 64, 64]\n",
        "eye = pd.Series(data=values, index=['Brown', 'Blue', 'Blue', 'Hazel', 'Green'])\n",
        "\n",
        "print(eye)\n"
      ]
    },
    {
      "cell_type": "markdown",
      "id": "90c09e78-0600-49f3-87d8-10d640806341",
      "metadata": {
        "id": "90c09e78-0600-49f3-87d8-10d640806341"
      },
      "source": [
        "### Elements and Properties of Series"
      ]
    },
    {
      "cell_type": "code",
      "source": [
        "import pandas as pd\n",
        "\n",
        "# Create a Series\n",
        "eye = pd.Series({'Brown': 220, 'Blue': 215, 'Hazel': 93, 'Green': 64})\n",
        "\n",
        "# We can assign a name to a Series, which helps when merging it into a database\n",
        "print(\"Original name: \", eye.name)\n",
        "\n",
        "eye.name = \"eye_color\"\n",
        "\n",
        "print(\"Changed name: \", eye.name)\n",
        "\n",
        "# We can sort the Series by values\n",
        "eye = pd.Series({'Brown': 220, 'Blue': 215, 'Hazel': 93, 'Green': 64, 'Canelita Pasion': None})\n",
        "\n",
        "# We can also sort the Series by index\n",
        "eye = pd.Series({'Brown': 220, 'Blue': 215, 'Hazel': 93, 'Green': 64})\n",
        "\n",
        "print(eye)\n",
        "\n",
        "print(eye.sort_index())  # Ascending alphabetical order of the index\n",
        "\n",
        "print(eye.sort_index(ascending=False, na_position=\"first\"))  # Descending index order, place NaNs first\n",
        "\n",
        "# Get unique values and count them\n",
        "eye = pd.Series({'Brown': 220, 'Blue': 215, 'Hazel': 93, 'Green': 64, 'Canelita Pasion': 220})\n",
        "\n",
        "print(\"Unique values: \", eye.unique(), \"\\n\")\n",
        "print(\"Number of unique values: \", eye.nunique(), \"\\n\")\n",
        "print(\"Count of each value:\\n\", eye.value_counts())\n",
        "\n",
        "# Access Series elements by position or index label\n",
        "ser = pd.Series([0, 10, 20, 30, 40], index=['a', 'b', 'c', 'd', 'e'])\n",
        "\n",
        "print(\"Accessing specific values: \", ser[3], ser['d'], '\\n')\n",
        "\n",
        "# You can also access slices of the Series using ranges\n",
        "print(\"Accessing specific ranges:\\n\", ser[1:3])\n",
        "\n",
        "# Sorting by values\n",
        "print(eye)\n",
        "print(eye.sort_values())\n",
        "print(eye.sort_values(ascending=False, na_position=\"first\"))\n"
      ],
      "metadata": {
        "id": "WAqfbXFA0JGC"
      },
      "id": "WAqfbXFA0JGC",
      "execution_count": null,
      "outputs": []
    },
    {
      "cell_type": "markdown",
      "id": "800d00bb-d3c2-4681-880b-36ff2b21a87c",
      "metadata": {
        "id": "800d00bb-d3c2-4681-880b-36ff2b21a87c"
      },
      "source": [
        "### Series with operations"
      ]
    },
    {
      "cell_type": "code",
      "execution_count": null,
      "id": "cddbcbcc-c69f-47d9-a862-3f7ac3e589db",
      "metadata": {
        "id": "cddbcbcc-c69f-47d9-a862-3f7ac3e589db"
      },
      "outputs": [],
      "source": [
        "ser1=pd.Series([0,1,2,3,4], index=[0,1,2,3,4])\n",
        "ser2=pd.Series([0,1,2,3,4], index=[4,3,2,1,0])\n",
        "print(ser1)\n",
        "print(ser2)"
      ]
    },
    {
      "cell_type": "code",
      "source": [
        "# Operations using mathematical operators\n",
        "\n",
        "print(\"Series addition:\\n\", ser1 + ser2, \"\\n\")\n",
        "print(\"Series multiplication:\\n\", ser1 * ser2, \"\\n\")\n",
        "print(\"Series division:\\n\", ser1 / ser2)\n",
        "\n",
        "# Operations using built-in functions\n",
        "\n",
        "print(\"Sum: \", ser1.sum())\n",
        "print(\"\\nAverage (Mean): \", ser1.mean())\n",
        "print(\"\\nMedian: \", ser1.median())\n",
        "print(\"\\nMin, Max: \", ser1.min(), ser1.max())\n",
        "print(\"\\nStandard Deviation: \", ser1.std())\n",
        "\n",
        "# We can use the apply() function with lambda to process the entire Series\n",
        "\n",
        "ser_height = pd.Series([160, 170, 180], name='height')\n",
        "print(ser_height)\n",
        "\n",
        "plus_10 = lambda x: x + 10\n",
        "print(ser_height.apply(plus_10))\n"
      ],
      "metadata": {
        "id": "1k4UUnBr0wHX"
      },
      "id": "1k4UUnBr0wHX",
      "execution_count": null,
      "outputs": []
    },
    {
      "cell_type": "markdown",
      "id": "f7ee3436-3254-4dbe-bd41-a33c59770927",
      "metadata": {
        "id": "f7ee3436-3254-4dbe-bd41-a33c59770927"
      },
      "source": [
        "## DataFrames"
      ]
    },
    {
      "cell_type": "code",
      "execution_count": null,
      "id": "672466b9-8f84-4666-a34e-c366c51d9ffc",
      "metadata": {
        "id": "672466b9-8f84-4666-a34e-c366c51d9ffc"
      },
      "outputs": [],
      "source": [
        "# Dataframe to create Series\n",
        "\n",
        "df = pd.DataFrame({\"Name\": [\"Braund, Mr, Owen Harries\",\n",
        "                       \"Allen, Mr. William Henry\",\n",
        "                       \"Bonnel, Miss. Elizabeth\"],\n",
        "              \"Age\": [22, 35, 58],\n",
        "              \"Sex\": [\"male\", \"male\", \"female\"]})\n",
        "df"
      ]
    },
    {
      "cell_type": "code",
      "execution_count": null,
      "id": "97109d73-a79c-423b-88aa-b3cfcd9efe74",
      "metadata": {
        "id": "97109d73-a79c-423b-88aa-b3cfcd9efe74"
      },
      "outputs": [],
      "source": [
        "print(df['Age'])     # Access Characterist or target\n",
        "print(df['Age'][0])  # Access Data Specific\n",
        "\n",
        "print(type(df['Age']),type(df['Age'][0]))"
      ]
    },
    {
      "cell_type": "code",
      "execution_count": null,
      "id": "be03cab7-aee2-4647-b0fe-27f7e7eedbd7",
      "metadata": {
        "id": "be03cab7-aee2-4647-b0fe-27f7e7eedbd7"
      },
      "outputs": [],
      "source": [
        "# Data frma with data numeric(Matrix)\n",
        "\n",
        "df = pd.DataFrame([[1,2,3],[4,5,6],[7,8,0]])\n",
        "\n",
        "df #df[0]"
      ]
    },
    {
      "cell_type": "markdown",
      "id": "6b7a4ae5-5311-498d-bbb3-5c6955698a13",
      "metadata": {
        "id": "6b7a4ae5-5311-498d-bbb3-5c6955698a13"
      },
      "source": [
        "### DataFrame inspection"
      ]
    },
    {
      "cell_type": "code",
      "execution_count": null,
      "id": "875d9880-1aa3-4d63-891b-9fdb61fe6126",
      "metadata": {
        "id": "875d9880-1aa3-4d63-891b-9fdb61fe6126"
      },
      "outputs": [],
      "source": [
        "df = pd.DataFrame({\"Name\": [\"Braund, Mr, Owen Harries\",\n",
        "                       \"Allen, Mr. William Henry\",\n",
        "                       \"Bonnel, Miss. Elizabeth\"],\n",
        "              \"Age\": [22, 35, 58],\n",
        "              \"Sex\": [\"male\", \"male\", \"female\"]})\n",
        "\n",
        "# Access first rows\n",
        "print(df.head(2),\"\\n\")\n",
        "\n",
        "# Can you see general info Data Frame\n",
        "print(df.info(),\"\\n\")\n",
        "\n",
        "# Resume stadistic characteristic numerics.\n",
        "print(df.describe())"
      ]
    },
    {
      "cell_type": "markdown",
      "id": "cafdf8d7-5a18-4425-bbfd-631a85dedd8c",
      "metadata": {
        "id": "cafdf8d7-5a18-4425-bbfd-631a85dedd8c"
      },
      "source": [
        "###  Basic data selection and filtering"
      ]
    },
    {
      "cell_type": "code",
      "execution_count": null,
      "id": "ff31f11f-768b-4aba-b775-ec8580ea5799",
      "metadata": {
        "id": "ff31f11f-768b-4aba-b775-ec8580ea5799"
      },
      "outputs": [],
      "source": [
        "data = {\n",
        "    'Nombre': ['Ana', 'Luis', 'Carlos'],\n",
        "    'Edad': [23, 25, 30],\n",
        "    'Ciudad': ['Madrid', 'Barcelona', 'Valencia']\n",
        "}\n",
        "df = pd.DataFrame(data,index=['a','b','c'])\n",
        "\n",
        "# Select row(serie)\n",
        "print(df['Edad'],\"\\n\")\n",
        "\n",
        "# Select columns\n",
        "print(df[['Nombre', 'Ciudad']],\"\\n\")\n",
        "\n",
        "# Select rows\n",
        "print(df.iloc[0],\"\\n\")  # First row\n",
        "print(df.loc['b'],\"\\n\")   # First Row\n",
        "print(df.iloc[:2],\"\\n\") # First two rows\n",
        "print(df[df['Edad'] > 24])  # Filter rows"
      ]
    },
    {
      "cell_type": "markdown",
      "id": "be865eab-a766-411e-a058-04d9d8abb0d0",
      "metadata": {
        "id": "be865eab-a766-411e-a058-04d9d8abb0d0"
      },
      "source": [
        "### Add and modify data"
      ]
    },
    {
      "cell_type": "code",
      "execution_count": null,
      "id": "8ca3c43c-1809-4224-b864-4d8b7b8e3bb7",
      "metadata": {
        "id": "8ca3c43c-1809-4224-b864-4d8b7b8e3bb7"
      },
      "outputs": [],
      "source": [
        "# Add new columns\n",
        "df['Salario'] = [50000, 55000, 60000]\n",
        "\n",
        "# Modify  columns exist\n",
        "df['Edad'] = df['Edad'] + 1\n",
        "print(df)"
      ]
    },
    {
      "cell_type": "markdown",
      "id": "89113241-a38b-40ce-81a2-3d0b846cc48a",
      "metadata": {
        "id": "89113241-a38b-40ce-81a2-3d0b846cc48a"
      },
      "source": [
        "### Delete Data row and columns."
      ]
    },
    {
      "cell_type": "code",
      "execution_count": null,
      "id": "35a5a7a8-e4fc-49b0-adfb-36b71f6e3838",
      "metadata": {
        "id": "35a5a7a8-e4fc-49b0-adfb-36b71f6e3838"
      },
      "outputs": [],
      "source": [
        "# Delete column\n",
        "\n",
        "df2 = df.copy()\n",
        "print(df2,\"\\n\")\n",
        "df2 = df.drop(columns=['Salario'])\n",
        "print(df2,\"\\n\")\n",
        "# Delete row\n",
        "df2 = df2.drop(index='c')  # Delete row and Index 1\n",
        "print(df2)"
      ]
    },
    {
      "cell_type": "markdown",
      "id": "9f383032-b0e3-4694-975d-37b77aef7fe0",
      "metadata": {
        "id": "9f383032-b0e3-4694-975d-37b77aef7fe0"
      },
      "source": [
        "### Operations for grouping and aggregation\n",
        "\n",
        "\n",
        "\n"
      ]
    },
    {
      "cell_type": "code",
      "execution_count": null,
      "id": "01075ee4-7d7d-48ff-8043-d91e94b5c326",
      "metadata": {
        "id": "01075ee4-7d7d-48ff-8043-d91e94b5c326"
      },
      "outputs": [],
      "source": [
        "# Group by and calculate mean\n",
        "data = {\n",
        "    'Nombre': ['Ana', 'Luis', 'Carlos', 'Ana'],\n",
        "    'Edad': [23, 25, 30, 22],\n",
        "    'Salario': [50000, 55000, 60000, 52000]\n",
        "}\n",
        "df = pd.DataFrame(data)\n",
        "\n",
        "# Agrupar por nombre y calcular el promedio de Edad y Salario\n",
        "print(df.groupby('Nombre').mean())"
      ]
    },
    {
      "cell_type": "markdown",
      "id": "ac235122-d0e6-4668-a25d-9c77c63e4a75",
      "metadata": {
        "id": "ac235122-d0e6-4668-a25d-9c77c63e4a75"
      },
      "source": [
        "### Merging and Joining DataFrames"
      ]
    },
    {
      "cell_type": "code",
      "execution_count": null,
      "id": "ea6d103b-7cb9-4466-a2c7-114ace7c330e",
      "metadata": {
        "id": "ea6d103b-7cb9-4466-a2c7-114ace7c330e"
      },
      "outputs": [],
      "source": [
        "# Create two DataFrames\n",
        "df1 = pd.DataFrame({'ID': [1, 2, 3], 'Name': ['Ana', 'Luis', 'Carlos']})\n",
        "df2 = pd.DataFrame({'ID': [1, 2, 4], 'Salary': [50000, 55000, 60000]})\n",
        "\n",
        "# Merge DataFrames using the 'ID' column as a common key\n",
        "df_merged = pd.merge(df1, df2, on='ID')\n",
        "print(\"Merged DataFrame using 'merge':\\n\", df_merged)\n",
        "\n",
        "# Vertical concatenation (stacking rows)\n",
        "df_concat_vertical = pd.concat([df1, df2], ignore_index=True)\n",
        "print(\"\\nVertical concatenation using 'concat':\\n\", df_concat_vertical)\n",
        "\n",
        "# Horizontal concatenation (combining columns)\n",
        "df_concat_horizontal = pd.concat([df1, df2], axis=1)\n",
        "print(\"\\nHorizontal concatenation using 'concat':\\n\", df_concat_horizontal)"
      ]
    },
    {
      "cell_type": "markdown",
      "id": "10dcf91e-d8a5-4f6c-9e43-a4db8c94868a",
      "metadata": {
        "id": "10dcf91e-d8a5-4f6c-9e43-a4db8c94868a"
      },
      "source": [
        "### Apply Function and Column Operations\n",
        "\n"
      ]
    },
    {
      "cell_type": "code",
      "execution_count": null,
      "id": "046f30d9-91cd-4b14-8010-39768d193ab0",
      "metadata": {
        "id": "046f30d9-91cd-4b14-8010-39768d193ab0"
      },
      "outputs": [],
      "source": [
        "# Apply a lambda function to transform a column\n",
        "df['Age_squared'] = df['Age'].apply(lambda x: x**2)\n",
        "print(df, '\\n')\n",
        "\n",
        "# Direct mathematical operations\n",
        "df['Age_doubled'] = df['Age'] * 2\n",
        "print(df)\n"
      ]
    },
    {
      "cell_type": "markdown",
      "id": "af705470-4b0b-4f52-afee-89a8c371a783",
      "metadata": {
        "id": "af705470-4b0b-4f52-afee-89a8c371a783"
      },
      "source": [
        "### Handling Missing (Null) Values"
      ]
    },
    {
      "cell_type": "code",
      "execution_count": null,
      "id": "985fb3f6-607c-44dd-ac5a-2071001f9346",
      "metadata": {
        "id": "985fb3f6-607c-44dd-ac5a-2071001f9346"
      },
      "outputs": [],
      "source": [
        " df = pd.DataFrame({\n",
        "    'Name': ['Ana', None, 'Carlos'],\n",
        "    'Age': [23, None, 30],\n",
        "    'Salary': [50000, 55000, None]\n",
        "})\n",
        "\n",
        "# Detect missing values\n",
        "print(df.isnull(), \"\\n\")\n",
        "\n",
        "# Fill missing values with specific values\n",
        "df = df.fillna({'Name': 'Unknown', 'Age': df['Age'].mean()})\n",
        "print(df, \"\\n\")\n",
        "\n",
        "# Drop rows with any missing values\n",
        "df = df.dropna()\n",
        "print(df)\n"
      ]
    },
    {
      "cell_type": "markdown",
      "id": "e7a50229-af87-4032-ac9a-ab330cc14551",
      "metadata": {
        "id": "e7a50229-af87-4032-ac9a-ab330cc14551"
      },
      "source": [
        "### Condition Filter"
      ]
    },
    {
      "cell_type": "code",
      "execution_count": null,
      "id": "a6e2064b-24b0-4ee5-a9d9-ccfa8cf63808",
      "metadata": {
        "id": "a6e2064b-24b0-4ee5-a9d9-ccfa8cf63808"
      },
      "outputs": [],
      "source": [
        "data = {\n",
        "    'Nombre': ['Ana', 'Luis', 'Carlos'],\n",
        "    'Edad': [23, 25, 30],\n",
        "    'Ciudad': ['Madrid', 'Barcelona', 'Valencia']\n",
        "}\n",
        "df = pd.DataFrame(data,index=['a','b','c'])\n",
        "\n",
        "\n",
        "print(df[df['Edad'] > 24],'\\n')\n",
        "\n",
        "print(df[df['Ciudad'] == 'Madrid'])"
      ]
    },
    {
      "cell_type": "markdown",
      "id": "b21f4dc7-b81d-4a7b-9072-22db03082b57",
      "metadata": {
        "id": "b21f4dc7-b81d-4a7b-9072-22db03082b57"
      },
      "source": [
        "### Multi-indexing"
      ]
    },
    {
      "cell_type": "code",
      "execution_count": null,
      "id": "090f3b7f-b148-4d8d-9483-7c0aa6a6aa7a",
      "metadata": {
        "id": "090f3b7f-b148-4d8d-9483-7c0aa6a6aa7a"
      },
      "outputs": [],
      "source": [
        "import numpy as np\n",
        "import pandas as pd\n",
        "\n",
        "# Define column names\n",
        "my_header = ['a', 'b', 'c']\n",
        "\n",
        "# Create the first level of the index (outer level) with two groups 'G1' and 'G2', each with 3 elements\n",
        "my_index_out = ['G1'] * 3 + ['G2'] * 3\n",
        "\n",
        "# Create the second level of the index (inner level) with numbers 1, 2, 3 repeated\n",
        "my_index_in = [1, 2, 3] * 2\n",
        "\n",
        "# Combine both levels into tuples (e.g., ('G1', 1), ('G1', 2), ...)\n",
        "my_index_zipped = list(zip(my_index_out, my_index_in))\n",
        "\n",
        "# Create a MultiIndex from the tuples for hierarchical indexing\n",
        "my_index = pd.MultiIndex.from_tuples(my_index_zipped)\n",
        "\n",
        "# Create the DataFrame with random data and the MultiIndex\n",
        "df = pd.DataFrame(data=np.random.randn(6, 3), index=my_index, columns=my_header)\n",
        "\n",
        "# Display the resulting DataFrame\n",
        "df\n"
      ]
    },
    {
      "cell_type": "markdown",
      "id": "7e28a4c8-29e5-4aaa-9a3d-d219ed3381e9",
      "metadata": {
        "id": "7e28a4c8-29e5-4aaa-9a3d-d219ed3381e9"
      },
      "source": [
        "## Practical Example Using Pandas"
      ]
    },
    {
      "cell_type": "markdown",
      "id": "f6bb3e32-7f02-4032-8c53-0244f59bf56b",
      "metadata": {
        "id": "f6bb3e32-7f02-4032-8c53-0244f59bf56b"
      },
      "source": [
        "### Example 1"
      ]
    },
    {
      "cell_type": "code",
      "execution_count": null,
      "id": "cafc3bc0-ca30-4fe4-9314-844115698d91",
      "metadata": {
        "colab": {
          "base_uri": "https://localhost:8080/",
          "height": 424
        },
        "id": "cafc3bc0-ca30-4fe4-9314-844115698d91",
        "outputId": "b2c83195-92d2-4a8a-fdbf-915a2bab1c58"
      },
      "outputs": [
        {
          "output_type": "execute_result",
          "data": {
            "text/plain": [
              "     Sepal.Length  Sepal.Width  Petal.Length  Petal.Width    Species\n",
              "0             5.1          3.5           1.4          0.2     setosa\n",
              "1             4.9          3.0           1.4          0.2     setosa\n",
              "2             4.7          3.2           1.3          0.2     setosa\n",
              "3             4.6          3.1           1.5          0.2     setosa\n",
              "4             5.0          3.6           1.4          0.2     setosa\n",
              "..            ...          ...           ...          ...        ...\n",
              "145           6.7          3.0           5.2          2.3  virginica\n",
              "146           6.3          2.5           5.0          1.9  virginica\n",
              "147           6.5          3.0           5.2          2.0  virginica\n",
              "148           6.2          3.4           5.4          2.3  virginica\n",
              "149           5.9          3.0           5.1          1.8  virginica\n",
              "\n",
              "[150 rows x 5 columns]"
            ],
            "text/html": [
              "\n",
              "  <div id=\"df-84081ab4-b078-4a17-913a-8cd2f25ad008\" class=\"colab-df-container\">\n",
              "    <div>\n",
              "<style scoped>\n",
              "    .dataframe tbody tr th:only-of-type {\n",
              "        vertical-align: middle;\n",
              "    }\n",
              "\n",
              "    .dataframe tbody tr th {\n",
              "        vertical-align: top;\n",
              "    }\n",
              "\n",
              "    .dataframe thead th {\n",
              "        text-align: right;\n",
              "    }\n",
              "</style>\n",
              "<table border=\"1\" class=\"dataframe\">\n",
              "  <thead>\n",
              "    <tr style=\"text-align: right;\">\n",
              "      <th></th>\n",
              "      <th>Sepal.Length</th>\n",
              "      <th>Sepal.Width</th>\n",
              "      <th>Petal.Length</th>\n",
              "      <th>Petal.Width</th>\n",
              "      <th>Species</th>\n",
              "    </tr>\n",
              "  </thead>\n",
              "  <tbody>\n",
              "    <tr>\n",
              "      <th>0</th>\n",
              "      <td>5.1</td>\n",
              "      <td>3.5</td>\n",
              "      <td>1.4</td>\n",
              "      <td>0.2</td>\n",
              "      <td>setosa</td>\n",
              "    </tr>\n",
              "    <tr>\n",
              "      <th>1</th>\n",
              "      <td>4.9</td>\n",
              "      <td>3.0</td>\n",
              "      <td>1.4</td>\n",
              "      <td>0.2</td>\n",
              "      <td>setosa</td>\n",
              "    </tr>\n",
              "    <tr>\n",
              "      <th>2</th>\n",
              "      <td>4.7</td>\n",
              "      <td>3.2</td>\n",
              "      <td>1.3</td>\n",
              "      <td>0.2</td>\n",
              "      <td>setosa</td>\n",
              "    </tr>\n",
              "    <tr>\n",
              "      <th>3</th>\n",
              "      <td>4.6</td>\n",
              "      <td>3.1</td>\n",
              "      <td>1.5</td>\n",
              "      <td>0.2</td>\n",
              "      <td>setosa</td>\n",
              "    </tr>\n",
              "    <tr>\n",
              "      <th>4</th>\n",
              "      <td>5.0</td>\n",
              "      <td>3.6</td>\n",
              "      <td>1.4</td>\n",
              "      <td>0.2</td>\n",
              "      <td>setosa</td>\n",
              "    </tr>\n",
              "    <tr>\n",
              "      <th>...</th>\n",
              "      <td>...</td>\n",
              "      <td>...</td>\n",
              "      <td>...</td>\n",
              "      <td>...</td>\n",
              "      <td>...</td>\n",
              "    </tr>\n",
              "    <tr>\n",
              "      <th>145</th>\n",
              "      <td>6.7</td>\n",
              "      <td>3.0</td>\n",
              "      <td>5.2</td>\n",
              "      <td>2.3</td>\n",
              "      <td>virginica</td>\n",
              "    </tr>\n",
              "    <tr>\n",
              "      <th>146</th>\n",
              "      <td>6.3</td>\n",
              "      <td>2.5</td>\n",
              "      <td>5.0</td>\n",
              "      <td>1.9</td>\n",
              "      <td>virginica</td>\n",
              "    </tr>\n",
              "    <tr>\n",
              "      <th>147</th>\n",
              "      <td>6.5</td>\n",
              "      <td>3.0</td>\n",
              "      <td>5.2</td>\n",
              "      <td>2.0</td>\n",
              "      <td>virginica</td>\n",
              "    </tr>\n",
              "    <tr>\n",
              "      <th>148</th>\n",
              "      <td>6.2</td>\n",
              "      <td>3.4</td>\n",
              "      <td>5.4</td>\n",
              "      <td>2.3</td>\n",
              "      <td>virginica</td>\n",
              "    </tr>\n",
              "    <tr>\n",
              "      <th>149</th>\n",
              "      <td>5.9</td>\n",
              "      <td>3.0</td>\n",
              "      <td>5.1</td>\n",
              "      <td>1.8</td>\n",
              "      <td>virginica</td>\n",
              "    </tr>\n",
              "  </tbody>\n",
              "</table>\n",
              "<p>150 rows × 5 columns</p>\n",
              "</div>\n",
              "    <div class=\"colab-df-buttons\">\n",
              "\n",
              "  <div class=\"colab-df-container\">\n",
              "    <button class=\"colab-df-convert\" onclick=\"convertToInteractive('df-84081ab4-b078-4a17-913a-8cd2f25ad008')\"\n",
              "            title=\"Convert this dataframe to an interactive table.\"\n",
              "            style=\"display:none;\">\n",
              "\n",
              "  <svg xmlns=\"http://www.w3.org/2000/svg\" height=\"24px\" viewBox=\"0 -960 960 960\">\n",
              "    <path d=\"M120-120v-720h720v720H120Zm60-500h600v-160H180v160Zm220 220h160v-160H400v160Zm0 220h160v-160H400v160ZM180-400h160v-160H180v160Zm440 0h160v-160H620v160ZM180-180h160v-160H180v160Zm440 0h160v-160H620v160Z\"/>\n",
              "  </svg>\n",
              "    </button>\n",
              "\n",
              "  <style>\n",
              "    .colab-df-container {\n",
              "      display:flex;\n",
              "      gap: 12px;\n",
              "    }\n",
              "\n",
              "    .colab-df-convert {\n",
              "      background-color: #E8F0FE;\n",
              "      border: none;\n",
              "      border-radius: 50%;\n",
              "      cursor: pointer;\n",
              "      display: none;\n",
              "      fill: #1967D2;\n",
              "      height: 32px;\n",
              "      padding: 0 0 0 0;\n",
              "      width: 32px;\n",
              "    }\n",
              "\n",
              "    .colab-df-convert:hover {\n",
              "      background-color: #E2EBFA;\n",
              "      box-shadow: 0px 1px 2px rgba(60, 64, 67, 0.3), 0px 1px 3px 1px rgba(60, 64, 67, 0.15);\n",
              "      fill: #174EA6;\n",
              "    }\n",
              "\n",
              "    .colab-df-buttons div {\n",
              "      margin-bottom: 4px;\n",
              "    }\n",
              "\n",
              "    [theme=dark] .colab-df-convert {\n",
              "      background-color: #3B4455;\n",
              "      fill: #D2E3FC;\n",
              "    }\n",
              "\n",
              "    [theme=dark] .colab-df-convert:hover {\n",
              "      background-color: #434B5C;\n",
              "      box-shadow: 0px 1px 3px 1px rgba(0, 0, 0, 0.15);\n",
              "      filter: drop-shadow(0px 1px 2px rgba(0, 0, 0, 0.3));\n",
              "      fill: #FFFFFF;\n",
              "    }\n",
              "  </style>\n",
              "\n",
              "    <script>\n",
              "      const buttonEl =\n",
              "        document.querySelector('#df-84081ab4-b078-4a17-913a-8cd2f25ad008 button.colab-df-convert');\n",
              "      buttonEl.style.display =\n",
              "        google.colab.kernel.accessAllowed ? 'block' : 'none';\n",
              "\n",
              "      async function convertToInteractive(key) {\n",
              "        const element = document.querySelector('#df-84081ab4-b078-4a17-913a-8cd2f25ad008');\n",
              "        const dataTable =\n",
              "          await google.colab.kernel.invokeFunction('convertToInteractive',\n",
              "                                                    [key], {});\n",
              "        if (!dataTable) return;\n",
              "\n",
              "        const docLinkHtml = 'Like what you see? Visit the ' +\n",
              "          '<a target=\"_blank\" href=https://colab.research.google.com/notebooks/data_table.ipynb>data table notebook</a>'\n",
              "          + ' to learn more about interactive tables.';\n",
              "        element.innerHTML = '';\n",
              "        dataTable['output_type'] = 'display_data';\n",
              "        await google.colab.output.renderOutput(dataTable, element);\n",
              "        const docLink = document.createElement('div');\n",
              "        docLink.innerHTML = docLinkHtml;\n",
              "        element.appendChild(docLink);\n",
              "      }\n",
              "    </script>\n",
              "  </div>\n",
              "\n",
              "\n",
              "<div id=\"df-933b6721-201e-4fa7-8cff-680fffc14dc9\">\n",
              "  <button class=\"colab-df-quickchart\" onclick=\"quickchart('df-933b6721-201e-4fa7-8cff-680fffc14dc9')\"\n",
              "            title=\"Suggest charts\"\n",
              "            style=\"display:none;\">\n",
              "\n",
              "<svg xmlns=\"http://www.w3.org/2000/svg\" height=\"24px\"viewBox=\"0 0 24 24\"\n",
              "     width=\"24px\">\n",
              "    <g>\n",
              "        <path d=\"M19 3H5c-1.1 0-2 .9-2 2v14c0 1.1.9 2 2 2h14c1.1 0 2-.9 2-2V5c0-1.1-.9-2-2-2zM9 17H7v-7h2v7zm4 0h-2V7h2v10zm4 0h-2v-4h2v4z\"/>\n",
              "    </g>\n",
              "</svg>\n",
              "  </button>\n",
              "\n",
              "<style>\n",
              "  .colab-df-quickchart {\n",
              "      --bg-color: #E8F0FE;\n",
              "      --fill-color: #1967D2;\n",
              "      --hover-bg-color: #E2EBFA;\n",
              "      --hover-fill-color: #174EA6;\n",
              "      --disabled-fill-color: #AAA;\n",
              "      --disabled-bg-color: #DDD;\n",
              "  }\n",
              "\n",
              "  [theme=dark] .colab-df-quickchart {\n",
              "      --bg-color: #3B4455;\n",
              "      --fill-color: #D2E3FC;\n",
              "      --hover-bg-color: #434B5C;\n",
              "      --hover-fill-color: #FFFFFF;\n",
              "      --disabled-bg-color: #3B4455;\n",
              "      --disabled-fill-color: #666;\n",
              "  }\n",
              "\n",
              "  .colab-df-quickchart {\n",
              "    background-color: var(--bg-color);\n",
              "    border: none;\n",
              "    border-radius: 50%;\n",
              "    cursor: pointer;\n",
              "    display: none;\n",
              "    fill: var(--fill-color);\n",
              "    height: 32px;\n",
              "    padding: 0;\n",
              "    width: 32px;\n",
              "  }\n",
              "\n",
              "  .colab-df-quickchart:hover {\n",
              "    background-color: var(--hover-bg-color);\n",
              "    box-shadow: 0 1px 2px rgba(60, 64, 67, 0.3), 0 1px 3px 1px rgba(60, 64, 67, 0.15);\n",
              "    fill: var(--button-hover-fill-color);\n",
              "  }\n",
              "\n",
              "  .colab-df-quickchart-complete:disabled,\n",
              "  .colab-df-quickchart-complete:disabled:hover {\n",
              "    background-color: var(--disabled-bg-color);\n",
              "    fill: var(--disabled-fill-color);\n",
              "    box-shadow: none;\n",
              "  }\n",
              "\n",
              "  .colab-df-spinner {\n",
              "    border: 2px solid var(--fill-color);\n",
              "    border-color: transparent;\n",
              "    border-bottom-color: var(--fill-color);\n",
              "    animation:\n",
              "      spin 1s steps(1) infinite;\n",
              "  }\n",
              "\n",
              "  @keyframes spin {\n",
              "    0% {\n",
              "      border-color: transparent;\n",
              "      border-bottom-color: var(--fill-color);\n",
              "      border-left-color: var(--fill-color);\n",
              "    }\n",
              "    20% {\n",
              "      border-color: transparent;\n",
              "      border-left-color: var(--fill-color);\n",
              "      border-top-color: var(--fill-color);\n",
              "    }\n",
              "    30% {\n",
              "      border-color: transparent;\n",
              "      border-left-color: var(--fill-color);\n",
              "      border-top-color: var(--fill-color);\n",
              "      border-right-color: var(--fill-color);\n",
              "    }\n",
              "    40% {\n",
              "      border-color: transparent;\n",
              "      border-right-color: var(--fill-color);\n",
              "      border-top-color: var(--fill-color);\n",
              "    }\n",
              "    60% {\n",
              "      border-color: transparent;\n",
              "      border-right-color: var(--fill-color);\n",
              "    }\n",
              "    80% {\n",
              "      border-color: transparent;\n",
              "      border-right-color: var(--fill-color);\n",
              "      border-bottom-color: var(--fill-color);\n",
              "    }\n",
              "    90% {\n",
              "      border-color: transparent;\n",
              "      border-bottom-color: var(--fill-color);\n",
              "    }\n",
              "  }\n",
              "</style>\n",
              "\n",
              "  <script>\n",
              "    async function quickchart(key) {\n",
              "      const quickchartButtonEl =\n",
              "        document.querySelector('#' + key + ' button');\n",
              "      quickchartButtonEl.disabled = true;  // To prevent multiple clicks.\n",
              "      quickchartButtonEl.classList.add('colab-df-spinner');\n",
              "      try {\n",
              "        const charts = await google.colab.kernel.invokeFunction(\n",
              "            'suggestCharts', [key], {});\n",
              "      } catch (error) {\n",
              "        console.error('Error during call to suggestCharts:', error);\n",
              "      }\n",
              "      quickchartButtonEl.classList.remove('colab-df-spinner');\n",
              "      quickchartButtonEl.classList.add('colab-df-quickchart-complete');\n",
              "    }\n",
              "    (() => {\n",
              "      let quickchartButtonEl =\n",
              "        document.querySelector('#df-933b6721-201e-4fa7-8cff-680fffc14dc9 button');\n",
              "      quickchartButtonEl.style.display =\n",
              "        google.colab.kernel.accessAllowed ? 'block' : 'none';\n",
              "    })();\n",
              "  </script>\n",
              "</div>\n",
              "\n",
              "  <div id=\"id_16818d57-738b-4d9e-97ab-87f0fdd383ca\">\n",
              "    <style>\n",
              "      .colab-df-generate {\n",
              "        background-color: #E8F0FE;\n",
              "        border: none;\n",
              "        border-radius: 50%;\n",
              "        cursor: pointer;\n",
              "        display: none;\n",
              "        fill: #1967D2;\n",
              "        height: 32px;\n",
              "        padding: 0 0 0 0;\n",
              "        width: 32px;\n",
              "      }\n",
              "\n",
              "      .colab-df-generate:hover {\n",
              "        background-color: #E2EBFA;\n",
              "        box-shadow: 0px 1px 2px rgba(60, 64, 67, 0.3), 0px 1px 3px 1px rgba(60, 64, 67, 0.15);\n",
              "        fill: #174EA6;\n",
              "      }\n",
              "\n",
              "      [theme=dark] .colab-df-generate {\n",
              "        background-color: #3B4455;\n",
              "        fill: #D2E3FC;\n",
              "      }\n",
              "\n",
              "      [theme=dark] .colab-df-generate:hover {\n",
              "        background-color: #434B5C;\n",
              "        box-shadow: 0px 1px 3px 1px rgba(0, 0, 0, 0.15);\n",
              "        filter: drop-shadow(0px 1px 2px rgba(0, 0, 0, 0.3));\n",
              "        fill: #FFFFFF;\n",
              "      }\n",
              "    </style>\n",
              "    <button class=\"colab-df-generate\" onclick=\"generateWithVariable('iris_df')\"\n",
              "            title=\"Generate code using this dataframe.\"\n",
              "            style=\"display:none;\">\n",
              "\n",
              "  <svg xmlns=\"http://www.w3.org/2000/svg\" height=\"24px\"viewBox=\"0 0 24 24\"\n",
              "       width=\"24px\">\n",
              "    <path d=\"M7,19H8.4L18.45,9,17,7.55,7,17.6ZM5,21V16.75L18.45,3.32a2,2,0,0,1,2.83,0l1.4,1.43a1.91,1.91,0,0,1,.58,1.4,1.91,1.91,0,0,1-.58,1.4L9.25,21ZM18.45,9,17,7.55Zm-12,3A5.31,5.31,0,0,0,4.9,8.1,5.31,5.31,0,0,0,1,6.5,5.31,5.31,0,0,0,4.9,4.9,5.31,5.31,0,0,0,6.5,1,5.31,5.31,0,0,0,8.1,4.9,5.31,5.31,0,0,0,12,6.5,5.46,5.46,0,0,0,6.5,12Z\"/>\n",
              "  </svg>\n",
              "    </button>\n",
              "    <script>\n",
              "      (() => {\n",
              "      const buttonEl =\n",
              "        document.querySelector('#id_16818d57-738b-4d9e-97ab-87f0fdd383ca button.colab-df-generate');\n",
              "      buttonEl.style.display =\n",
              "        google.colab.kernel.accessAllowed ? 'block' : 'none';\n",
              "\n",
              "      buttonEl.onclick = () => {\n",
              "        google.colab.notebook.generateWithVariable('iris_df');\n",
              "      }\n",
              "      })();\n",
              "    </script>\n",
              "  </div>\n",
              "\n",
              "    </div>\n",
              "  </div>\n"
            ],
            "application/vnd.google.colaboratory.intrinsic+json": {
              "type": "dataframe",
              "variable_name": "iris_df",
              "summary": "{\n  \"name\": \"iris_df\",\n  \"rows\": 150,\n  \"fields\": [\n    {\n      \"column\": \"Sepal.Length\",\n      \"properties\": {\n        \"dtype\": \"number\",\n        \"std\": 0.8280661279778629,\n        \"min\": 4.3,\n        \"max\": 7.9,\n        \"num_unique_values\": 35,\n        \"samples\": [\n          6.2,\n          4.5,\n          5.6\n        ],\n        \"semantic_type\": \"\",\n        \"description\": \"\"\n      }\n    },\n    {\n      \"column\": \"Sepal.Width\",\n      \"properties\": {\n        \"dtype\": \"number\",\n        \"std\": 0.4335943113621737,\n        \"min\": 2.0,\n        \"max\": 4.4,\n        \"num_unique_values\": 23,\n        \"samples\": [\n          2.3,\n          4.0,\n          3.5\n        ],\n        \"semantic_type\": \"\",\n        \"description\": \"\"\n      }\n    },\n    {\n      \"column\": \"Petal.Length\",\n      \"properties\": {\n        \"dtype\": \"number\",\n        \"std\": 1.7644204199522617,\n        \"min\": 1.0,\n        \"max\": 6.9,\n        \"num_unique_values\": 43,\n        \"samples\": [\n          6.7,\n          3.8,\n          3.7\n        ],\n        \"semantic_type\": \"\",\n        \"description\": \"\"\n      }\n    },\n    {\n      \"column\": \"Petal.Width\",\n      \"properties\": {\n        \"dtype\": \"number\",\n        \"std\": 0.7631607417008414,\n        \"min\": 0.1,\n        \"max\": 2.5,\n        \"num_unique_values\": 22,\n        \"samples\": [\n          0.2,\n          1.2,\n          1.3\n        ],\n        \"semantic_type\": \"\",\n        \"description\": \"\"\n      }\n    },\n    {\n      \"column\": \"Species\",\n      \"properties\": {\n        \"dtype\": \"category\",\n        \"num_unique_values\": 3,\n        \"samples\": [\n          \"setosa\",\n          \"versicolor\",\n          \"virginica\"\n        ],\n        \"semantic_type\": \"\",\n        \"description\": \"\"\n      }\n    }\n  ]\n}"
            }
          },
          "metadata": {},
          "execution_count": 2
        }
      ],
      "source": [
        "import pandas as pd\n",
        "\n",
        "iris_df=pd.read_csv('/content/data_Iris.csv')\n",
        "iris_df"
      ]
    },
    {
      "cell_type": "code",
      "execution_count": null,
      "id": "8fcd96e2-2c4c-400b-8944-ba8e67c7a423",
      "metadata": {
        "colab": {
          "base_uri": "https://localhost:8080/"
        },
        "id": "8fcd96e2-2c4c-400b-8944-ba8e67c7a423",
        "outputId": "6f33b56f-34fc-49db-e967-15b3e29ef8d3"
      },
      "outputs": [
        {
          "output_type": "stream",
          "name": "stdout",
          "text": [
            "   Sepal.Length  Sepal.Width  Petal.Length  Petal.Width Species\n",
            "0           5.1          3.5           1.4          0.2  setosa\n",
            "1           4.9          3.0           1.4          0.2  setosa\n",
            "2           4.7          3.2           1.3          0.2  setosa\n",
            "3           4.6          3.1           1.5          0.2  setosa\n",
            "4           5.0          3.6           1.4          0.2  setosa \n",
            "\n",
            "     Sepal.Length  Sepal.Width  Petal.Length  Petal.Width    Species\n",
            "145           6.7          3.0           5.2          2.3  virginica\n",
            "146           6.3          2.5           5.0          1.9  virginica\n",
            "147           6.5          3.0           5.2          2.0  virginica\n",
            "148           6.2          3.4           5.4          2.3  virginica\n",
            "149           5.9          3.0           5.1          1.8  virginica \n",
            "\n",
            "Index(['Sepal.Length', 'Sepal.Width', 'Petal.Length', 'Petal.Width',\n",
            "       'Species'],\n",
            "      dtype='object') \n",
            "\n",
            "<class 'pandas.core.frame.DataFrame'>\n",
            "RangeIndex: 150 entries, 0 to 149\n",
            "Data columns (total 5 columns):\n",
            " #   Column        Non-Null Count  Dtype  \n",
            "---  ------        --------------  -----  \n",
            " 0   Sepal.Length  150 non-null    float64\n",
            " 1   Sepal.Width   150 non-null    float64\n",
            " 2   Petal.Length  150 non-null    float64\n",
            " 3   Petal.Width   150 non-null    float64\n",
            " 4   Species       150 non-null    object \n",
            "dtypes: float64(4), object(1)\n",
            "memory usage: 6.0+ KB\n",
            "None\n"
          ]
        }
      ],
      "source": [
        "print(iris_df.head(),\"\\n\")\n",
        "print(iris_df.tail(),\"\\n\")\n",
        "print(iris_df.columns,\"\\n\")\n",
        "print(iris_df.info())"
      ]
    },
    {
      "cell_type": "code",
      "execution_count": null,
      "id": "24ca744b-ae16-430e-9551-6a1e2bbac0b0",
      "metadata": {
        "colab": {
          "base_uri": "https://localhost:8080/",
          "height": 424
        },
        "id": "24ca744b-ae16-430e-9551-6a1e2bbac0b0",
        "outputId": "9ae31b35-8fb9-45a3-97b7-8902caccff65"
      },
      "outputs": [
        {
          "output_type": "execute_result",
          "data": {
            "text/plain": [
              "     Sepal_Length  Sepal_Width  Petal_Length  Petal_Width    Species\n",
              "0             5.1          3.5           1.4          0.2     setosa\n",
              "1             4.9          3.0           1.4          0.2     setosa\n",
              "2             4.7          3.2           1.3          0.2     setosa\n",
              "3             4.6          3.1           1.5          0.2     setosa\n",
              "4             5.0          3.6           1.4          0.2     setosa\n",
              "..            ...          ...           ...          ...        ...\n",
              "145           6.7          3.0           5.2          2.3  virginica\n",
              "146           6.3          2.5           5.0          1.9  virginica\n",
              "147           6.5          3.0           5.2          2.0  virginica\n",
              "148           6.2          3.4           5.4          2.3  virginica\n",
              "149           5.9          3.0           5.1          1.8  virginica\n",
              "\n",
              "[150 rows x 5 columns]"
            ],
            "text/html": [
              "\n",
              "  <div id=\"df-21fc2cba-5107-42f6-b9ee-217effc939c2\" class=\"colab-df-container\">\n",
              "    <div>\n",
              "<style scoped>\n",
              "    .dataframe tbody tr th:only-of-type {\n",
              "        vertical-align: middle;\n",
              "    }\n",
              "\n",
              "    .dataframe tbody tr th {\n",
              "        vertical-align: top;\n",
              "    }\n",
              "\n",
              "    .dataframe thead th {\n",
              "        text-align: right;\n",
              "    }\n",
              "</style>\n",
              "<table border=\"1\" class=\"dataframe\">\n",
              "  <thead>\n",
              "    <tr style=\"text-align: right;\">\n",
              "      <th></th>\n",
              "      <th>Sepal_Length</th>\n",
              "      <th>Sepal_Width</th>\n",
              "      <th>Petal_Length</th>\n",
              "      <th>Petal_Width</th>\n",
              "      <th>Species</th>\n",
              "    </tr>\n",
              "  </thead>\n",
              "  <tbody>\n",
              "    <tr>\n",
              "      <th>0</th>\n",
              "      <td>5.1</td>\n",
              "      <td>3.5</td>\n",
              "      <td>1.4</td>\n",
              "      <td>0.2</td>\n",
              "      <td>setosa</td>\n",
              "    </tr>\n",
              "    <tr>\n",
              "      <th>1</th>\n",
              "      <td>4.9</td>\n",
              "      <td>3.0</td>\n",
              "      <td>1.4</td>\n",
              "      <td>0.2</td>\n",
              "      <td>setosa</td>\n",
              "    </tr>\n",
              "    <tr>\n",
              "      <th>2</th>\n",
              "      <td>4.7</td>\n",
              "      <td>3.2</td>\n",
              "      <td>1.3</td>\n",
              "      <td>0.2</td>\n",
              "      <td>setosa</td>\n",
              "    </tr>\n",
              "    <tr>\n",
              "      <th>3</th>\n",
              "      <td>4.6</td>\n",
              "      <td>3.1</td>\n",
              "      <td>1.5</td>\n",
              "      <td>0.2</td>\n",
              "      <td>setosa</td>\n",
              "    </tr>\n",
              "    <tr>\n",
              "      <th>4</th>\n",
              "      <td>5.0</td>\n",
              "      <td>3.6</td>\n",
              "      <td>1.4</td>\n",
              "      <td>0.2</td>\n",
              "      <td>setosa</td>\n",
              "    </tr>\n",
              "    <tr>\n",
              "      <th>...</th>\n",
              "      <td>...</td>\n",
              "      <td>...</td>\n",
              "      <td>...</td>\n",
              "      <td>...</td>\n",
              "      <td>...</td>\n",
              "    </tr>\n",
              "    <tr>\n",
              "      <th>145</th>\n",
              "      <td>6.7</td>\n",
              "      <td>3.0</td>\n",
              "      <td>5.2</td>\n",
              "      <td>2.3</td>\n",
              "      <td>virginica</td>\n",
              "    </tr>\n",
              "    <tr>\n",
              "      <th>146</th>\n",
              "      <td>6.3</td>\n",
              "      <td>2.5</td>\n",
              "      <td>5.0</td>\n",
              "      <td>1.9</td>\n",
              "      <td>virginica</td>\n",
              "    </tr>\n",
              "    <tr>\n",
              "      <th>147</th>\n",
              "      <td>6.5</td>\n",
              "      <td>3.0</td>\n",
              "      <td>5.2</td>\n",
              "      <td>2.0</td>\n",
              "      <td>virginica</td>\n",
              "    </tr>\n",
              "    <tr>\n",
              "      <th>148</th>\n",
              "      <td>6.2</td>\n",
              "      <td>3.4</td>\n",
              "      <td>5.4</td>\n",
              "      <td>2.3</td>\n",
              "      <td>virginica</td>\n",
              "    </tr>\n",
              "    <tr>\n",
              "      <th>149</th>\n",
              "      <td>5.9</td>\n",
              "      <td>3.0</td>\n",
              "      <td>5.1</td>\n",
              "      <td>1.8</td>\n",
              "      <td>virginica</td>\n",
              "    </tr>\n",
              "  </tbody>\n",
              "</table>\n",
              "<p>150 rows × 5 columns</p>\n",
              "</div>\n",
              "    <div class=\"colab-df-buttons\">\n",
              "\n",
              "  <div class=\"colab-df-container\">\n",
              "    <button class=\"colab-df-convert\" onclick=\"convertToInteractive('df-21fc2cba-5107-42f6-b9ee-217effc939c2')\"\n",
              "            title=\"Convert this dataframe to an interactive table.\"\n",
              "            style=\"display:none;\">\n",
              "\n",
              "  <svg xmlns=\"http://www.w3.org/2000/svg\" height=\"24px\" viewBox=\"0 -960 960 960\">\n",
              "    <path d=\"M120-120v-720h720v720H120Zm60-500h600v-160H180v160Zm220 220h160v-160H400v160Zm0 220h160v-160H400v160ZM180-400h160v-160H180v160Zm440 0h160v-160H620v160ZM180-180h160v-160H180v160Zm440 0h160v-160H620v160Z\"/>\n",
              "  </svg>\n",
              "    </button>\n",
              "\n",
              "  <style>\n",
              "    .colab-df-container {\n",
              "      display:flex;\n",
              "      gap: 12px;\n",
              "    }\n",
              "\n",
              "    .colab-df-convert {\n",
              "      background-color: #E8F0FE;\n",
              "      border: none;\n",
              "      border-radius: 50%;\n",
              "      cursor: pointer;\n",
              "      display: none;\n",
              "      fill: #1967D2;\n",
              "      height: 32px;\n",
              "      padding: 0 0 0 0;\n",
              "      width: 32px;\n",
              "    }\n",
              "\n",
              "    .colab-df-convert:hover {\n",
              "      background-color: #E2EBFA;\n",
              "      box-shadow: 0px 1px 2px rgba(60, 64, 67, 0.3), 0px 1px 3px 1px rgba(60, 64, 67, 0.15);\n",
              "      fill: #174EA6;\n",
              "    }\n",
              "\n",
              "    .colab-df-buttons div {\n",
              "      margin-bottom: 4px;\n",
              "    }\n",
              "\n",
              "    [theme=dark] .colab-df-convert {\n",
              "      background-color: #3B4455;\n",
              "      fill: #D2E3FC;\n",
              "    }\n",
              "\n",
              "    [theme=dark] .colab-df-convert:hover {\n",
              "      background-color: #434B5C;\n",
              "      box-shadow: 0px 1px 3px 1px rgba(0, 0, 0, 0.15);\n",
              "      filter: drop-shadow(0px 1px 2px rgba(0, 0, 0, 0.3));\n",
              "      fill: #FFFFFF;\n",
              "    }\n",
              "  </style>\n",
              "\n",
              "    <script>\n",
              "      const buttonEl =\n",
              "        document.querySelector('#df-21fc2cba-5107-42f6-b9ee-217effc939c2 button.colab-df-convert');\n",
              "      buttonEl.style.display =\n",
              "        google.colab.kernel.accessAllowed ? 'block' : 'none';\n",
              "\n",
              "      async function convertToInteractive(key) {\n",
              "        const element = document.querySelector('#df-21fc2cba-5107-42f6-b9ee-217effc939c2');\n",
              "        const dataTable =\n",
              "          await google.colab.kernel.invokeFunction('convertToInteractive',\n",
              "                                                    [key], {});\n",
              "        if (!dataTable) return;\n",
              "\n",
              "        const docLinkHtml = 'Like what you see? Visit the ' +\n",
              "          '<a target=\"_blank\" href=https://colab.research.google.com/notebooks/data_table.ipynb>data table notebook</a>'\n",
              "          + ' to learn more about interactive tables.';\n",
              "        element.innerHTML = '';\n",
              "        dataTable['output_type'] = 'display_data';\n",
              "        await google.colab.output.renderOutput(dataTable, element);\n",
              "        const docLink = document.createElement('div');\n",
              "        docLink.innerHTML = docLinkHtml;\n",
              "        element.appendChild(docLink);\n",
              "      }\n",
              "    </script>\n",
              "  </div>\n",
              "\n",
              "\n",
              "<div id=\"df-9ad2da47-0a33-4a45-a97b-3ee25997d324\">\n",
              "  <button class=\"colab-df-quickchart\" onclick=\"quickchart('df-9ad2da47-0a33-4a45-a97b-3ee25997d324')\"\n",
              "            title=\"Suggest charts\"\n",
              "            style=\"display:none;\">\n",
              "\n",
              "<svg xmlns=\"http://www.w3.org/2000/svg\" height=\"24px\"viewBox=\"0 0 24 24\"\n",
              "     width=\"24px\">\n",
              "    <g>\n",
              "        <path d=\"M19 3H5c-1.1 0-2 .9-2 2v14c0 1.1.9 2 2 2h14c1.1 0 2-.9 2-2V5c0-1.1-.9-2-2-2zM9 17H7v-7h2v7zm4 0h-2V7h2v10zm4 0h-2v-4h2v4z\"/>\n",
              "    </g>\n",
              "</svg>\n",
              "  </button>\n",
              "\n",
              "<style>\n",
              "  .colab-df-quickchart {\n",
              "      --bg-color: #E8F0FE;\n",
              "      --fill-color: #1967D2;\n",
              "      --hover-bg-color: #E2EBFA;\n",
              "      --hover-fill-color: #174EA6;\n",
              "      --disabled-fill-color: #AAA;\n",
              "      --disabled-bg-color: #DDD;\n",
              "  }\n",
              "\n",
              "  [theme=dark] .colab-df-quickchart {\n",
              "      --bg-color: #3B4455;\n",
              "      --fill-color: #D2E3FC;\n",
              "      --hover-bg-color: #434B5C;\n",
              "      --hover-fill-color: #FFFFFF;\n",
              "      --disabled-bg-color: #3B4455;\n",
              "      --disabled-fill-color: #666;\n",
              "  }\n",
              "\n",
              "  .colab-df-quickchart {\n",
              "    background-color: var(--bg-color);\n",
              "    border: none;\n",
              "    border-radius: 50%;\n",
              "    cursor: pointer;\n",
              "    display: none;\n",
              "    fill: var(--fill-color);\n",
              "    height: 32px;\n",
              "    padding: 0;\n",
              "    width: 32px;\n",
              "  }\n",
              "\n",
              "  .colab-df-quickchart:hover {\n",
              "    background-color: var(--hover-bg-color);\n",
              "    box-shadow: 0 1px 2px rgba(60, 64, 67, 0.3), 0 1px 3px 1px rgba(60, 64, 67, 0.15);\n",
              "    fill: var(--button-hover-fill-color);\n",
              "  }\n",
              "\n",
              "  .colab-df-quickchart-complete:disabled,\n",
              "  .colab-df-quickchart-complete:disabled:hover {\n",
              "    background-color: var(--disabled-bg-color);\n",
              "    fill: var(--disabled-fill-color);\n",
              "    box-shadow: none;\n",
              "  }\n",
              "\n",
              "  .colab-df-spinner {\n",
              "    border: 2px solid var(--fill-color);\n",
              "    border-color: transparent;\n",
              "    border-bottom-color: var(--fill-color);\n",
              "    animation:\n",
              "      spin 1s steps(1) infinite;\n",
              "  }\n",
              "\n",
              "  @keyframes spin {\n",
              "    0% {\n",
              "      border-color: transparent;\n",
              "      border-bottom-color: var(--fill-color);\n",
              "      border-left-color: var(--fill-color);\n",
              "    }\n",
              "    20% {\n",
              "      border-color: transparent;\n",
              "      border-left-color: var(--fill-color);\n",
              "      border-top-color: var(--fill-color);\n",
              "    }\n",
              "    30% {\n",
              "      border-color: transparent;\n",
              "      border-left-color: var(--fill-color);\n",
              "      border-top-color: var(--fill-color);\n",
              "      border-right-color: var(--fill-color);\n",
              "    }\n",
              "    40% {\n",
              "      border-color: transparent;\n",
              "      border-right-color: var(--fill-color);\n",
              "      border-top-color: var(--fill-color);\n",
              "    }\n",
              "    60% {\n",
              "      border-color: transparent;\n",
              "      border-right-color: var(--fill-color);\n",
              "    }\n",
              "    80% {\n",
              "      border-color: transparent;\n",
              "      border-right-color: var(--fill-color);\n",
              "      border-bottom-color: var(--fill-color);\n",
              "    }\n",
              "    90% {\n",
              "      border-color: transparent;\n",
              "      border-bottom-color: var(--fill-color);\n",
              "    }\n",
              "  }\n",
              "</style>\n",
              "\n",
              "  <script>\n",
              "    async function quickchart(key) {\n",
              "      const quickchartButtonEl =\n",
              "        document.querySelector('#' + key + ' button');\n",
              "      quickchartButtonEl.disabled = true;  // To prevent multiple clicks.\n",
              "      quickchartButtonEl.classList.add('colab-df-spinner');\n",
              "      try {\n",
              "        const charts = await google.colab.kernel.invokeFunction(\n",
              "            'suggestCharts', [key], {});\n",
              "      } catch (error) {\n",
              "        console.error('Error during call to suggestCharts:', error);\n",
              "      }\n",
              "      quickchartButtonEl.classList.remove('colab-df-spinner');\n",
              "      quickchartButtonEl.classList.add('colab-df-quickchart-complete');\n",
              "    }\n",
              "    (() => {\n",
              "      let quickchartButtonEl =\n",
              "        document.querySelector('#df-9ad2da47-0a33-4a45-a97b-3ee25997d324 button');\n",
              "      quickchartButtonEl.style.display =\n",
              "        google.colab.kernel.accessAllowed ? 'block' : 'none';\n",
              "    })();\n",
              "  </script>\n",
              "</div>\n",
              "\n",
              "  <div id=\"id_a0004860-7a5e-4cc9-9ad2-d1d23b59ca62\">\n",
              "    <style>\n",
              "      .colab-df-generate {\n",
              "        background-color: #E8F0FE;\n",
              "        border: none;\n",
              "        border-radius: 50%;\n",
              "        cursor: pointer;\n",
              "        display: none;\n",
              "        fill: #1967D2;\n",
              "        height: 32px;\n",
              "        padding: 0 0 0 0;\n",
              "        width: 32px;\n",
              "      }\n",
              "\n",
              "      .colab-df-generate:hover {\n",
              "        background-color: #E2EBFA;\n",
              "        box-shadow: 0px 1px 2px rgba(60, 64, 67, 0.3), 0px 1px 3px 1px rgba(60, 64, 67, 0.15);\n",
              "        fill: #174EA6;\n",
              "      }\n",
              "\n",
              "      [theme=dark] .colab-df-generate {\n",
              "        background-color: #3B4455;\n",
              "        fill: #D2E3FC;\n",
              "      }\n",
              "\n",
              "      [theme=dark] .colab-df-generate:hover {\n",
              "        background-color: #434B5C;\n",
              "        box-shadow: 0px 1px 3px 1px rgba(0, 0, 0, 0.15);\n",
              "        filter: drop-shadow(0px 1px 2px rgba(0, 0, 0, 0.3));\n",
              "        fill: #FFFFFF;\n",
              "      }\n",
              "    </style>\n",
              "    <button class=\"colab-df-generate\" onclick=\"generateWithVariable('iris_df')\"\n",
              "            title=\"Generate code using this dataframe.\"\n",
              "            style=\"display:none;\">\n",
              "\n",
              "  <svg xmlns=\"http://www.w3.org/2000/svg\" height=\"24px\"viewBox=\"0 0 24 24\"\n",
              "       width=\"24px\">\n",
              "    <path d=\"M7,19H8.4L18.45,9,17,7.55,7,17.6ZM5,21V16.75L18.45,3.32a2,2,0,0,1,2.83,0l1.4,1.43a1.91,1.91,0,0,1,.58,1.4,1.91,1.91,0,0,1-.58,1.4L9.25,21ZM18.45,9,17,7.55Zm-12,3A5.31,5.31,0,0,0,4.9,8.1,5.31,5.31,0,0,0,1,6.5,5.31,5.31,0,0,0,4.9,4.9,5.31,5.31,0,0,0,6.5,1,5.31,5.31,0,0,0,8.1,4.9,5.31,5.31,0,0,0,12,6.5,5.46,5.46,0,0,0,6.5,12Z\"/>\n",
              "  </svg>\n",
              "    </button>\n",
              "    <script>\n",
              "      (() => {\n",
              "      const buttonEl =\n",
              "        document.querySelector('#id_a0004860-7a5e-4cc9-9ad2-d1d23b59ca62 button.colab-df-generate');\n",
              "      buttonEl.style.display =\n",
              "        google.colab.kernel.accessAllowed ? 'block' : 'none';\n",
              "\n",
              "      buttonEl.onclick = () => {\n",
              "        google.colab.notebook.generateWithVariable('iris_df');\n",
              "      }\n",
              "      })();\n",
              "    </script>\n",
              "  </div>\n",
              "\n",
              "    </div>\n",
              "  </div>\n"
            ],
            "application/vnd.google.colaboratory.intrinsic+json": {
              "type": "dataframe",
              "variable_name": "iris_df",
              "summary": "{\n  \"name\": \"iris_df\",\n  \"rows\": 150,\n  \"fields\": [\n    {\n      \"column\": \"Sepal_Length\",\n      \"properties\": {\n        \"dtype\": \"number\",\n        \"std\": 0.8280661279778629,\n        \"min\": 4.3,\n        \"max\": 7.9,\n        \"num_unique_values\": 35,\n        \"samples\": [\n          6.2,\n          4.5,\n          5.6\n        ],\n        \"semantic_type\": \"\",\n        \"description\": \"\"\n      }\n    },\n    {\n      \"column\": \"Sepal_Width\",\n      \"properties\": {\n        \"dtype\": \"number\",\n        \"std\": 0.4335943113621737,\n        \"min\": 2.0,\n        \"max\": 4.4,\n        \"num_unique_values\": 23,\n        \"samples\": [\n          2.3,\n          4.0,\n          3.5\n        ],\n        \"semantic_type\": \"\",\n        \"description\": \"\"\n      }\n    },\n    {\n      \"column\": \"Petal_Length\",\n      \"properties\": {\n        \"dtype\": \"number\",\n        \"std\": 1.7644204199522617,\n        \"min\": 1.0,\n        \"max\": 6.9,\n        \"num_unique_values\": 43,\n        \"samples\": [\n          6.7,\n          3.8,\n          3.7\n        ],\n        \"semantic_type\": \"\",\n        \"description\": \"\"\n      }\n    },\n    {\n      \"column\": \"Petal_Width\",\n      \"properties\": {\n        \"dtype\": \"number\",\n        \"std\": 0.7631607417008414,\n        \"min\": 0.1,\n        \"max\": 2.5,\n        \"num_unique_values\": 22,\n        \"samples\": [\n          0.2,\n          1.2,\n          1.3\n        ],\n        \"semantic_type\": \"\",\n        \"description\": \"\"\n      }\n    },\n    {\n      \"column\": \"Species\",\n      \"properties\": {\n        \"dtype\": \"category\",\n        \"num_unique_values\": 3,\n        \"samples\": [\n          \"setosa\",\n          \"versicolor\",\n          \"virginica\"\n        ],\n        \"semantic_type\": \"\",\n        \"description\": \"\"\n      }\n    }\n  ]\n}"
            }
          },
          "metadata": {},
          "execution_count": 4
        }
      ],
      "source": [
        "iris_df.columns=['Sepal_Length', 'Sepal_Width', 'Petal_Length', 'Petal_Width', 'Species']\n",
        "iris_df"
      ]
    },
    {
      "cell_type": "code",
      "execution_count": null,
      "id": "2e35bc1c-0357-4359-b6c2-5c8f8dd3c293",
      "metadata": {
        "id": "2e35bc1c-0357-4359-b6c2-5c8f8dd3c293"
      },
      "outputs": [],
      "source": [
        "iris_df.Sepal_Length\n",
        "iris_df[['Sepal_Length']]"
      ]
    },
    {
      "cell_type": "code",
      "execution_count": null,
      "id": "5874e505-ada6-48e4-bc71-625bcd808ea8",
      "metadata": {
        "id": "5874e505-ada6-48e4-bc71-625bcd808ea8"
      },
      "outputs": [],
      "source": [
        "iris_df[['Sepal_Length', 'Sepal_Width']]"
      ]
    },
    {
      "cell_type": "code",
      "execution_count": null,
      "id": "2fa43940-fe1f-4d9a-ba69-fe41fafc0c6c",
      "metadata": {
        "id": "2fa43940-fe1f-4d9a-ba69-fe41fafc0c6c"
      },
      "outputs": [],
      "source": [
        "\n",
        "result = iris_df.groupby('Species')[['Sepal_Length', 'Sepal_Width']].agg(['mean', 'std'])\n",
        "\n",
        "result"
      ]
    },
    {
      "cell_type": "code",
      "execution_count": null,
      "id": "2576bc87-c22d-406b-b256-b587b02b255d",
      "metadata": {
        "id": "2576bc87-c22d-406b-b256-b587b02b255d"
      },
      "outputs": [],
      "source": [
        "result.T"
      ]
    },
    {
      "cell_type": "markdown",
      "id": "6e77dd66-e590-4dab-a816-7bb2c5139b89",
      "metadata": {
        "id": "6e77dd66-e590-4dab-a816-7bb2c5139b89"
      },
      "source": [
        "### Example 2"
      ]
    },
    {
      "cell_type": "code",
      "execution_count": null,
      "id": "1eb0d862-926a-4aaf-b7df-2bc3f3514aaa",
      "metadata": {
        "id": "1eb0d862-926a-4aaf-b7df-2bc3f3514aaa"
      },
      "outputs": [],
      "source": [
        "import pandas as pd\n",
        "\n",
        "\n",
        "df1 = pd.read_excel('stock price.xlsx')\n",
        "df2 = pd.read_excel('stock valuation.xlsx')\n",
        "\n",
        "print(\"Información df1: \\n\",df1.info())\n",
        "print(df1.head(),\"\\n\")\n",
        "\n",
        "\n",
        "print(\"Información df2: \\n\",df2.info())\n",
        "print(df2.head(),\"\\n\")"
      ]
    },
    {
      "cell_type": "code",
      "execution_count": null,
      "id": "adb679fb-14dc-455f-b91d-24e9826ff142",
      "metadata": {
        "id": "adb679fb-14dc-455f-b91d-24e9826ff142"
      },
      "outputs": [],
      "source": [
        "pd.merge(df1, df2)"
      ]
    },
    {
      "cell_type": "code",
      "execution_count": null,
      "id": "2982520a-af89-4057-8198-6357b8b85b9c",
      "metadata": {
        "id": "2982520a-af89-4057-8198-6357b8b85b9c"
      },
      "outputs": [],
      "source": [
        "pd.merge(df1, df2, on='id', how='left')"
      ]
    }
  ],
  "metadata": {
    "kernelspec": {
      "display_name": "Python 3",
      "language": "python",
      "name": "python3"
    },
    "language_info": {
      "codemirror_mode": {
        "name": "ipython",
        "version": 3
      },
      "file_extension": ".py",
      "mimetype": "text/x-python",
      "name": "python",
      "nbconvert_exporter": "python",
      "pygments_lexer": "ipython3",
      "version": "3.8.0"
    },
    "colab": {
      "provenance": []
    }
  },
  "nbformat": 4,
  "nbformat_minor": 5
}